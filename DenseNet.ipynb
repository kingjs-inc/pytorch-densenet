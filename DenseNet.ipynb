{
  "nbformat": 4,
  "nbformat_minor": 0,
  "metadata": {
    "colab": {
      "provenance": [],
      "authorship_tag": "ABX9TyMHh3E4lJytgitmjsT21WJ0",
      "include_colab_link": true
    },
    "kernelspec": {
      "name": "python3",
      "display_name": "Python 3"
    },
    "language_info": {
      "name": "python"
    }
  },
  "cells": [
    {
      "cell_type": "markdown",
      "metadata": {
        "id": "view-in-github",
        "colab_type": "text"
      },
      "source": [
        "<a href=\"https://colab.research.google.com/github/kingjs-inc/pytorch-densenet/blob/main/DenseNet.ipynb\" target=\"_parent\"><img src=\"https://colab.research.google.com/assets/colab-badge.svg\" alt=\"Open In Colab\"/></a>"
      ]
    },
    {
      "cell_type": "code",
      "execution_count": null,
      "metadata": {
        "id": "9k8o9PKgWBKA"
      },
      "outputs": [],
      "source": [
        "import torch\n",
        "import torch.nn as nn\n",
        "from torchsummary import summary"
      ]
    },
    {
      "cell_type": "code",
      "source": [
        "class BottleNeck(nn.Module):\n",
        "    def __init__(self, in_channels, growth_rate):\n",
        "        super().__init__()\n",
        "        inner_channels = 4 * growth_rate\n",
        "\n",
        "        self.residual = nn.Sequential(\n",
        "            nn.BatchNorm2d(in_channels),\n",
        "            nn.ReLU(),\n",
        "            nn.Conv2d(in_channels, inner_channels, 1, stride=1, padding=0, bias=False),\n",
        "            nn.BatchNorm2d(inner_channels),\n",
        "            nn.ReLU(),\n",
        "            nn.Conv2d(inner_channels, growth_rate, 3, stride=1, padding=1, bias=False)\n",
        "        )\n",
        "\n",
        "        self.shortcut = nn.Sequential()\n",
        "\n",
        "    def forward(self, x):\n",
        "        return torch.cat([self.shortcut(x), self.residual(x)], 1)\n",
        "\n",
        "class Transition(nn.Module):\n",
        "    def __init__(self, in_channels, out_channels):\n",
        "        super().__init__()\n",
        "\n",
        "        self.down_sample = nn.Sequential(\n",
        "            nn.BatchNorm2d(in_channels),\n",
        "            nn.ReLU(),\n",
        "            nn.Conv2d(in_channels, out_channels, 1, stride=1, padding=0, bias=False),\n",
        "            nn.AvgPool2d(2, stride=2)\n",
        "        )\n",
        "\n",
        "    def forward(self, x):\n",
        "        return self.down_sample(x)\n",
        "\n",
        "class DenseNet(nn.Module):\n",
        "    def __init__(self, nblocks, growth_rate=12, reduction=0.5, num_classes=10, init_weights=True):\n",
        "        super().__init__()\n",
        "\n",
        "        self.growth_rate = growth_rate\n",
        "        inner_channels = 2 * growth_rate\n",
        "\n",
        "        self.conv1 = nn.Sequential(\n",
        "            nn.Conv2d(3, inner_channels, 7, stride=2, padding=3),\n",
        "            nn.MaxPool2d(3, 2, padding=1)\n",
        "        )\n",
        "\n",
        "        self.features = nn.Sequential()\n",
        "\n",
        "        for i in range(len(nblocks)-1):\n",
        "            self.features.add_module('dense_block_{}'.format(i), self._make_dense_block(nblocks[i], inner_channels))\n",
        "            inner_channels += growth_rate * nblocks[i]\n",
        "            out_channels = int(reduction * inner_channels)\n",
        "            self.features.add_module('transition_layer_{}'.format(i), Transition(inner_channels, out_channels))\n",
        "            inner_channels = out_channels\n",
        "\n",
        "        self.features.add_module('dense_block_{}'.format(len(nblocks)-1), self._make_dense_block(nblocks[len(nblocks)-1], inner_channels))\n",
        "        inner_channels += growth_rate * nblocks[len(nblocks)-1]\n",
        "        self.features.add_module('bn', nn.BatchNorm2d(inner_channels))\n",
        "        self.features.add_module('relu', nn.ReLU())\n",
        "\n",
        "        self.avg_pool = nn.AdaptiveAvgPool2d((1,1))\n",
        "        self.linear = nn.Linear(inner_channels, num_classes)\n",
        "\n",
        "    def forward(self, x):\n",
        "        x = self.conv1(x)\n",
        "        x = self.features(x)\n",
        "        x = self.avg_pool(x)\n",
        "        x = x.view(x.size(0), -1)\n",
        "        x = self.linear(x)\n",
        "        return x\n",
        "\n",
        "    def _make_dense_block(self, nblock, inner_channels):\n",
        "        dense_block = nn.Sequential()\n",
        "        for i in range(nblock):\n",
        "            dense_block.add_module('bottle_neck_layer_{}'.format(i), BottleNeck(inner_channels, self.growth_rate))\n",
        "            inner_channels += self.growth_rate\n",
        "        return dense_block\n",
        "\n",
        "def DenseNet_121():\n",
        "    return DenseNet([6, 12, 24, 6])"
      ],
      "metadata": {
        "id": "13-xp0EmWS03"
      },
      "execution_count": null,
      "outputs": []
    }
  ]
}